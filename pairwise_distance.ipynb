{
 "cells": [
  {
   "attachments": {},
   "cell_type": "markdown",
   "metadata": {},
   "source": [
    "### Creating adjacency matrix with pairwise distance between the elements in one tensor"
   ]
  },
  {
   "cell_type": "code",
   "execution_count": 1,
   "metadata": {},
   "outputs": [],
   "source": [
    "import torch"
   ]
  },
  {
   "cell_type": "code",
   "execution_count": 2,
   "metadata": {},
   "outputs": [
    {
     "name": "stdout",
     "output_type": "stream",
     "text": [
      "tensor([[0.0199, 0.8751, 0.1139],\n",
      "        [0.9096, 0.8300, 0.9274],\n",
      "        [0.7109, 0.4133, 0.9727],\n",
      "        [0.2511, 0.2100, 0.9174],\n",
      "        [0.4060, 0.2329, 0.0783]])\n"
     ]
    }
   ],
   "source": [
    "TENSOR_SIZE = (5,3)\n",
    "tensor = torch.rand(TENSOR_SIZE)\n",
    "print(tensor)"
   ]
  },
  {
   "cell_type": "code",
   "execution_count": 3,
   "metadata": {},
   "outputs": [
    {
     "name": "stdout",
     "output_type": "stream",
     "text": [
      "tensor([[0., 0., 0., 0., 0.],\n",
      "        [0., 0., 0., 0., 0.],\n",
      "        [0., 0., 0., 0., 0.],\n",
      "        [0., 0., 0., 0., 0.],\n",
      "        [0., 0., 0., 0., 0.]])\n"
     ]
    }
   ],
   "source": [
    "num_elements = tensor.shape[0]\n",
    "adjacency = torch.zeros((num_elements, num_elements))\n",
    "print(adjacency)\n"
   ]
  },
  {
   "cell_type": "code",
   "execution_count": 4,
   "metadata": {},
   "outputs": [
    {
     "name": "stdout",
     "output_type": "stream",
     "text": [
      "tensor([[0.0000, 1.2064, 1.1952, 1.0684, 0.7502],\n",
      "        [1.2064, 0.0000, 0.0000, 0.0000, 0.0000],\n",
      "        [1.1952, 0.0000, 0.0000, 0.0000, 0.0000],\n",
      "        [1.0684, 0.0000, 0.0000, 0.0000, 0.0000],\n",
      "        [0.7502, 0.0000, 0.0000, 0.0000, 0.0000]])\n",
      "tensor([[0.0000, 1.2064, 1.1952, 1.0684, 0.7502],\n",
      "        [1.2064, 0.0000, 0.4639, 0.9045, 1.1537],\n",
      "        [1.1952, 0.4639, 0.0000, 0.0000, 0.0000],\n",
      "        [1.0684, 0.9045, 0.0000, 0.0000, 0.0000],\n",
      "        [0.7502, 1.1537, 0.0000, 0.0000, 0.0000]])\n",
      "tensor([[0.0000, 1.2064, 1.1952, 1.0684, 0.7502],\n",
      "        [1.2064, 0.0000, 0.4639, 0.9045, 1.1537],\n",
      "        [1.1952, 0.4639, 0.0000, 0.5058, 0.9620],\n",
      "        [1.0684, 0.9045, 0.5058, 0.0000, 0.0000],\n",
      "        [0.7502, 1.1537, 0.9620, 0.0000, 0.0000]])\n",
      "tensor([[0.0000, 1.2064, 1.1952, 1.0684, 0.7502],\n",
      "        [1.2064, 0.0000, 0.4639, 0.9045, 1.1537],\n",
      "        [1.1952, 0.4639, 0.0000, 0.5058, 0.9620],\n",
      "        [1.0684, 0.9045, 0.5058, 0.0000, 0.8535],\n",
      "        [0.7502, 1.1537, 0.9620, 0.8535, 0.0000]])\n",
      "tensor([[0.0000, 1.2064, 1.1952, 1.0684, 0.7502],\n",
      "        [1.2064, 0.0000, 0.4639, 0.9045, 1.1537],\n",
      "        [1.1952, 0.4639, 0.0000, 0.5058, 0.9620],\n",
      "        [1.0684, 0.9045, 0.5058, 0.0000, 0.8535],\n",
      "        [0.7502, 1.1537, 0.9620, 0.8535, 0.0000]])\n"
     ]
    }
   ],
   "source": [
    "for element in range(num_elements):\n",
    "    dist = torch.cdist(tensor[element,:].unsqueeze(0), tensor[element+1:,:] ,p=2)\n",
    "    adjacency[element,element+1:] = dist\n",
    "    adjacency[element+1:,element] = dist\n",
    "    print(adjacency)"
   ]
  },
  {
   "cell_type": "code",
   "execution_count": 5,
   "metadata": {},
   "outputs": [
    {
     "name": "stdout",
     "output_type": "stream",
     "text": [
      "tensor([[0.0000, 1.2064, 1.1952, 1.0684, 0.7502],\n",
      "        [1.2064, 0.0000, 0.4639, 0.9045, 1.1537],\n",
      "        [1.1952, 0.4639, 0.0000, 0.5058, 0.9620],\n",
      "        [1.0684, 0.9045, 0.5058, 0.0000, 0.8535],\n",
      "        [0.7502, 1.1537, 0.9620, 0.8535, 0.0000]])\n"
     ]
    }
   ],
   "source": [
    "print(adjacency)"
   ]
  },
  {
   "cell_type": "code",
   "execution_count": null,
   "metadata": {},
   "outputs": [],
   "source": []
  }
 ],
 "metadata": {
  "kernelspec": {
   "display_name": "bitrap",
   "language": "python",
   "name": "python3"
  },
  "language_info": {
   "codemirror_mode": {
    "name": "ipython",
    "version": 3
   },
   "file_extension": ".py",
   "mimetype": "text/x-python",
   "name": "python",
   "nbconvert_exporter": "python",
   "pygments_lexer": "ipython3",
   "version": "3.7.16"
  },
  "orig_nbformat": 4,
  "vscode": {
   "interpreter": {
    "hash": "7282a12ebf858f38c6130837d983452a9322b88e6ae103bdf0fd5abe8a40403a"
   }
  }
 },
 "nbformat": 4,
 "nbformat_minor": 2
}
